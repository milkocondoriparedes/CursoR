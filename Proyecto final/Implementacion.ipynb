{
 "cells": [
  {
   "cell_type": "code",
   "execution_count": 3,
   "metadata": {},
   "outputs": [
    {
     "name": "stdout",
     "output_type": "stream",
     "text": [
      "la penultima fila es el numero final, dado el inicial\n",
      "la ultima fila es la PROBABILIDAD ESTABLE\n"
     ]
    },
    {
     "data": {
      "text/html": [
       "<table>\n",
       "<tbody>\n",
       "\t<tr><td>   0.9300</td><td>   0.0500</td><td>   0.0200</td></tr>\n",
       "\t<tr><td>   0.1000</td><td>   0.8000</td><td>   0.1000</td></tr>\n",
       "\t<tr><td>   0.0500</td><td>   0.1000</td><td>   0.8500</td></tr>\n",
       "\t<tr><td>5025.0000</td><td>2500.0000</td><td>2475.0000</td></tr>\n",
       "\t<tr><td>   0.5195</td><td>   0.2468</td><td>   0.2338</td></tr>\n",
       "</tbody>\n",
       "</table>\n"
      ],
      "text/latex": [
       "\\begin{tabular}{lll}\n",
       "\t    0.9300 &    0.0500 &    0.0200\\\\\n",
       "\t    0.1000 &    0.8000 &    0.1000\\\\\n",
       "\t    0.0500 &    0.1000 &    0.8500\\\\\n",
       "\t 5025.0000 & 2500.0000 & 2475.0000\\\\\n",
       "\t    0.5195 &    0.2468 &    0.2338\\\\\n",
       "\\end{tabular}\n"
      ],
      "text/markdown": [
       "\n",
       "|    0.9300 |    0.0500 |    0.0200 | \n",
       "|    0.1000 |    0.8000 |    0.1000 | \n",
       "|    0.0500 |    0.1000 |    0.8500 | \n",
       "| 5025.0000 | 2500.0000 | 2475.0000 | \n",
       "|    0.5195 |    0.2468 |    0.2338 | \n",
       "\n",
       "\n"
      ],
      "text/plain": [
       "     [,1]      [,2]      [,3]     \n",
       "[1,]    0.9300    0.0500    0.0200\n",
       "[2,]    0.1000    0.8000    0.1000\n",
       "[3,]    0.0500    0.1000    0.8500\n",
       "[4,] 5025.0000 2500.0000 2475.0000\n",
       "[5,]    0.5195    0.2468    0.2338"
      ]
     },
     "metadata": {},
     "output_type": "display_data"
    }
   ],
   "source": [
    "##Se ingresa P: probabilidad inicial\n",
    "#Se ingresa M: la matriz de transición\n",
    "#Se ingresa k: numero de transiciones\n",
    "funcion1<-function(P,M,k){\n",
    "vector<-matrix(rep(c(0),length(P)),1,length(P))\n",
    "vector1<-matrix(rep(c(0),length(P)),1,length(P))\n",
    "con<-0\n",
    "mat<-matrix(c(t(M),vector,vector1),(length(P)+2),length(P),byrow=T)\n",
    "if((length(P)*length(P)) != length(M))\n",
    "{\n",
    "cat(\"la matriz de transicion no es cuadrada\")\n",
    "}\n",
    "\n",
    "if ((length(P)* length(P))==length(M)){\n",
    "for(i in 1: length(P)){\n",
    "if(P[i]!=0){\n",
    "con<-con+1\n",
    "}\n",
    "}\n",
    "}\n",
    "\n",
    "if(con>0){\n",
    "\tvector<-P\n",
    "        for(i in 1:k){\n",
    "\t\tvector<-vector %*% M\n",
    "        }\n",
    "    }\n",
    "\n",
    "aux<-diag(1:1,length(P))\n",
    "aux1<-diag(1:1,length(P))\n",
    "\n",
    "\n",
    "\tfor(i in 1:k){\n",
    "\taux<-aux %*% M\n",
    "}\n",
    "for(i in 1:1000){\n",
    "aux1<-aux1 %*% M\n",
    "}\n",
    "vector1<-aux1[1,]\n",
    "mat<-matrix(c(t(aux),vector,vector1),(length(P)+2),length(P),byrow=T)\n",
    "cat(\"la penultima fila es el numero final, dado el inicial\\nla ultima fila es la PROBABILIDAD ESTABLE\\n\")\n",
    "round(mat,4)\n",
    "}\n",
    "#Se realiza: funcion1(P,M,k)\n",
    "\n",
    "#Veamos un ejemplo:\n",
    "#En una población de 10,000 habitantes, 5000 no fuman, 2500 fuman uno o\n",
    "#menos de un paquete diario y 2500 fuman más de un paquete diario. En un\n",
    "#mes hay un 5% de probabilidad de que un no fumador comience a fumar un\n",
    "#paquete diario, o menos, y un 2% de que un no fumador pase a fumar más de\n",
    "#un paquete diario. Para los que fuman un paquete, o menos, hay un 10% de\n",
    "#probabilidad de que dejen el tabaco, y un 10% de que pasen a fumar más de un\n",
    "#paquete diario. Entre los que fuman más de un paquete, hay un 5% de\n",
    "#probabilidad de que dejen el tabaco y un 10% de que pasen a fumar un\n",
    "#paquete, o menos. ¿Cuántos individuos habrá de cada clase el próximo mes? \n",
    "\n",
    "M<-matrix(c(0.93,0.10,0.05,0.05,0.80,0.10,0.02,0.10,0.85),3,3)\n",
    "P<-c(5000,2500,2500)\n",
    "k<-1\n",
    "funcion1(P,M,k)\n"
   ]
  },
  {
   "cell_type": "code",
   "execution_count": null,
   "metadata": {},
   "outputs": [],
   "source": [
    "#Asi el despues de 1 mes: no fuman 5025, fuman 1 o menos de un paquete diario 2500, fuman mas de\n",
    "#un paquere diario 2475.\n"
   ]
  }
 ],
 "metadata": {
  "kernelspec": {
   "display_name": "R",
   "language": "R",
   "name": "ir"
  },
  "language_info": {
   "codemirror_mode": "r",
   "file_extension": ".r",
   "mimetype": "text/x-r-source",
   "name": "R",
   "pygments_lexer": "r",
   "version": "3.4.3"
  }
 },
 "nbformat": 4,
 "nbformat_minor": 2
}
